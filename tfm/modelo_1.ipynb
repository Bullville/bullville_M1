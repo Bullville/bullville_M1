{
 "cells": [
  {
   "cell_type": "code",
   "execution_count": 2,
   "metadata": {},
   "outputs": [],
   "source": [
    "import numpy as np\n",
    "import matplotlib.pyplot as plt\n",
    "\n",
    "# Definir las constantes\n",
    "g = 9.8 # gravedad [m/s^2]\n",
    "p_atm = 101325 # Presión atmosférica [Pa]\n",
    "beta = 3.67e-3 # Coeficiente de expansion termica [1/K]\n",
    "T_w = 80.0 + 273.0 # Temperatura de la pared [K]\n",
    "T_a = 20.0 + 273.0 # Temperatura ambiente [K]\n",
    "delta_T = T_w - T_a\n",
    "lambda_f = 0.04 # Coeficiente de friccion [adimensional]\n",
    "R = 10.0 # Radio de la tuberia [m]\n",
    "L = 100.0 # Longitud de la tuberia [m]\n",
    "alpha = 2.2e-5 # Coeficiente de difusividad [m^2/s]\n",
    "rho_0 = 1.0 # Densidad [kg/m^3]\n",
    "Cp = 1.012 # Capacidad calorifica [J/(kg K)]\n",
    "k = 0.024 # Conductividad termica [W/(m K)]\n",
    "nu = 1.71e-5 # Viscosidad [Pa s]\n",
    "Ra_D = (g * beta * delta_T * (2 * R)**3)/ nu**2 # Numero de Rayleigh\n",
    "Nu = (576/(Ra_D * 2 * R /L)**2 + 2.873/(Ra_D * 2 * R /L)**(1/2))**(-1/2)# Numero de Nusselt\n",
    "h_v = (k * Nu)/ (2 * R * L) # coeficiente de tranferencia de calor por convección [W/(m^3 K)]"
   ]
  },
  {
   "cell_type": "markdown",
   "metadata": {},
   "source": [
    "## Solución estacionaria, calculo de $u_e$"
   ]
  },
  {
   "cell_type": "code",
   "execution_count": 9,
   "metadata": {},
   "outputs": [
    {
     "name": "stdout",
     "output_type": "stream",
     "text": [
      "u_e = 19.4829 m/s\n"
     ]
    }
   ],
   "source": [
    "def f(u, A, B):\n",
    "    return u - A * (1 - np.exp(-B/u))\n",
    "\n",
    "def df(u, A, B):\n",
    "    return 1 + A * (B/u**2) * np.exp(-B/u)\n",
    "\n",
    "def newton_raphson(A, B, u0, tol, max_iter):\n",
    "    u = u0\n",
    "    for i in range(max_iter):\n",
    "        f_val = f(u, A, B)\n",
    "        df_val = df(u, A, B)\n",
    "        u_new = u - f_val / df_val\n",
    "        if np.abs(u_new - u) < tol:\n",
    "            return u_new\n",
    "        u = u_new\n",
    "    return u\n",
    "\n",
    "# Example usage\n",
    "A = rho_0 * Cp * g * beta * (T_w - T_a) / (h_v * (0.5 + lambda_f * L /(8 * R)))\n",
    "B = h_v * L / (rho_0 * Cp)\n",
    "u0 = 0.01\n",
    "tol = 1e-6\n",
    "max_iter = 100\n",
    "\n",
    "u_sol = newton_raphson(A, B, u0, tol, max_iter)\n",
    "u_e = u_sol\n",
    "print('u_e = ' + str(round(u_e,4))+ ' m/s')"
   ]
  },
  {
   "cell_type": "markdown",
   "metadata": {},
   "source": [
    "## Calculo la temperatura final para poder escalar la temperatura del aire entre 0 y 1.\n",
    "## + def de parametros adimensionales"
   ]
  },
  {
   "cell_type": "code",
   "execution_count": 12,
   "metadata": {},
   "outputs": [
    {
     "name": "stdout",
     "output_type": "stream",
     "text": [
      "T_f = 23.8637ºC\n"
     ]
    }
   ],
   "source": [
    "gamma = h_v * L / (rho_0 * Cp * u_e)\n",
    "T_f = T_a + (T_w - T_a) * (1 - np.exp(-gamma))\n",
    "print('T_f = ' + str(round(T_f -273, 4)) + 'ºC')\n",
    "\n",
    "Pi_d = rho_0 * u_e**2 / p_atm\n",
    "Pi_0 = rho_0 * g * L / p_atm\n",
    "phi = L * g * beta * (T_f - T_a) / u_e**2\n",
    "theta_r = (T_w -T_a) / (T_f - T_a)\n",
    "LAMBDA = lambda_f * L / (8 * R)\n",
    "delta = alpha /(u_e * L)\n"
   ]
  },
  {
   "cell_type": "markdown",
   "metadata": {},
   "source": [
    "## Simulación numérica"
   ]
  },
  {
   "cell_type": "code",
   "execution_count": 23,
   "metadata": {},
   "outputs": [
    {
     "name": "stdout",
     "output_type": "stream",
     "text": [
      "[[1.         1.         1.         ... 1.         1.         1.        ]\n",
      " [0.99788162 0.99789226 0.9979029  ... 0.9999787  0.99998935 1.        ]\n",
      " [1.02214378 1.0220325  1.02192122 ... 1.00022254 1.00011127 1.        ]\n",
      " ...\n",
      " [       nan        nan        nan ...        nan        nan 1.        ]\n",
      " [       nan        nan        nan ...        nan        nan 1.        ]\n",
      " [       nan        nan        nan ...        nan        nan 1.        ]]\n",
      "[0.         0.         0.06509045        nan        nan        nan\n",
      "        nan        nan        nan        nan        nan        nan\n",
      "        nan        nan        nan        nan        nan        nan\n",
      "        nan        nan        nan        nan        nan        nan\n",
      "        nan        nan        nan        nan        nan        nan\n",
      "        nan        nan        nan        nan        nan        nan\n",
      "        nan        nan        nan        nan        nan        nan\n",
      "        nan        nan        nan        nan        nan        nan\n",
      "        nan        nan        nan        nan        nan        nan\n",
      "        nan        nan        nan        nan        nan        nan\n",
      "        nan        nan        nan        nan        nan        nan\n",
      "        nan        nan        nan        nan        nan        nan\n",
      "        nan        nan        nan        nan        nan        nan\n",
      "        nan        nan        nan        nan        nan        nan\n",
      "        nan        nan        nan        nan        nan        nan\n",
      "        nan        nan        nan        nan        nan        nan\n",
      "        nan        nan        nan        nan]\n",
      "15.529281548829731\n",
      "0.05\n",
      "0.0037461972810798536\n",
      "0.005\n",
      "0.01\n",
      "[1.         0.99788162 1.02214378        nan        nan        nan\n",
      "        nan        nan        nan        nan        nan        nan\n",
      "        nan        nan        nan        nan        nan        nan\n",
      "        nan        nan        nan        nan        nan        nan\n",
      "        nan        nan        nan        nan        nan        nan\n",
      "        nan        nan        nan        nan        nan        nan\n",
      "        nan        nan        nan        nan        nan        nan\n",
      "        nan        nan        nan        nan        nan        nan\n",
      "        nan        nan        nan        nan        nan        nan\n",
      "        nan        nan        nan        nan        nan        nan\n",
      "        nan        nan        nan        nan        nan        nan\n",
      "        nan        nan        nan        nan        nan        nan\n",
      "        nan        nan        nan        nan        nan        nan\n",
      "        nan        nan        nan        nan        nan        nan\n",
      "        nan        nan        nan        nan        nan        nan\n",
      "        nan        nan        nan        nan        nan        nan\n",
      "        nan        nan        nan        nan]\n"
     ]
    },
    {
     "name": "stderr",
     "output_type": "stream",
     "text": [
      "/var/folders/lx/vhxvbgp94fj63r8wrldf_13m0000gn/T/ipykernel_1799/1163777213.py:22: RuntimeWarning: invalid value encountered in sqrt\n",
      "  v[i+1] = np.sqrt(2 * (1 - Pi[i, 0]))\n"
     ]
    }
   ],
   "source": [
    "# Definición de variables y condiciones iniciales\n",
    "N = 100 # Número de puntos en la dirección temporal\n",
    "M = 200 # Número de puntos en la dirección vertical\n",
    "eta = np.linspace(0, 1, M)  # Coordenada vertical adimensional\n",
    "tau = np.linspace(0, 1, N)  # Coordenada temporal adimensional\n",
    "deta = (eta[-1] - eta[0]) / M\n",
    "dtau = (tau[-1] - tau[0]) / N\n",
    "v = np.zeros(N)  # Velocidad adimensional\n",
    "theta = np.zeros((N, M))  # Temperatura adimensional\n",
    "Pi = np.zeros((N, M))  # Presión adimensional\n",
    "\n",
    "# Condiciones iniciales\n",
    "v[0] = 0.0  # Velocidad inicial cero\n",
    "theta[0, :] = 0.0  # Temperatura inicial uniforme\n",
    "Pi[0, :] = 1.0  # Presión inicial uniforme\n",
    "Pi[:,-1] = 1 # La presión en todos los instantes en la posición final será la misma (P_atm)\n",
    " \n",
    "# Simulación numérica\n",
    "for i in range(N-1):\n",
    "\n",
    "    # Calculo de la velocidad en el instante i+1 a partir de la presión en eta = 0 del instante anterior:\n",
    "    v[i+1] = np.sqrt(2 * (1 - Pi[i, 0]))\n",
    "\n",
    "    # Calculo de las distribuciones de temperatura y presion en el espacio para el instante i+1:\n",
    "    for j in range(M-1):\n",
    "         \n",
    "        theta[i+1, j] = theta[i, j] + dtau * (- v[i+1] * (theta[i, j+1] - theta[i, j]) / deta\n",
    "                                                              + delta * (theta[i, j-1] - 2 * theta[i, j] + theta[i, j+1]) / deta**2\n",
    "                                                              - gamma * (theta[i, j] - theta_r))\n",
    "        \n",
    "        Pi[i+1, M-2-j] = Pi[i+1, M-1-j] + deta * Pi_d * ((v[i+1] - v[i]) / dtau + phi * (theta[i+1, M-2-j] - theta_r) - LAMBDA * v[i+1]**2)\n",
    "         \n",
    "\n",
    "print(Pi)\n",
    "print(v)\n",
    "print(theta_r)\n",
    "print(LAMBDA)\n",
    "print(Pi_d)\n",
    "print(deta)\n",
    "print(dtau)\n"
   ]
  },
  {
   "cell_type": "code",
   "execution_count": 24,
   "metadata": {},
   "outputs": [
    {
     "name": "stdout",
     "output_type": "stream",
     "text": [
      "[1.         0.99788162 1.02214378        nan        nan        nan\n",
      "        nan        nan        nan        nan        nan        nan\n",
      "        nan        nan        nan        nan        nan        nan\n",
      "        nan        nan        nan        nan        nan        nan\n",
      "        nan        nan        nan        nan        nan        nan\n",
      "        nan        nan        nan        nan        nan        nan\n",
      "        nan        nan        nan        nan        nan        nan\n",
      "        nan        nan        nan        nan        nan        nan\n",
      "        nan        nan        nan        nan        nan        nan\n",
      "        nan        nan        nan        nan        nan        nan\n",
      "        nan        nan        nan        nan        nan        nan\n",
      "        nan        nan        nan        nan        nan        nan\n",
      "        nan        nan        nan        nan        nan        nan\n",
      "        nan        nan        nan        nan        nan        nan\n",
      "        nan        nan        nan        nan        nan        nan\n",
      "        nan        nan        nan        nan        nan        nan\n",
      "        nan        nan        nan        nan]\n"
     ]
    }
   ],
   "source": [
    "print(Pi[:,0])"
   ]
  },
  {
   "cell_type": "code",
   "execution_count": null,
   "metadata": {},
   "outputs": [],
   "source": []
  }
 ],
 "metadata": {
  "kernelspec": {
   "display_name": "Python 3",
   "language": "python",
   "name": "python3"
  },
  "language_info": {
   "codemirror_mode": {
    "name": "ipython",
    "version": 3
   },
   "file_extension": ".py",
   "mimetype": "text/x-python",
   "name": "python",
   "nbconvert_exporter": "python",
   "pygments_lexer": "ipython3",
   "version": "3.12.2"
  }
 },
 "nbformat": 4,
 "nbformat_minor": 2
}
