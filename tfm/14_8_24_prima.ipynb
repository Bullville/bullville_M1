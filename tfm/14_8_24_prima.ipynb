{
 "cells": [
  {
   "cell_type": "code",
   "execution_count": 17,
   "metadata": {},
   "outputs": [],
   "source": [
    "import numpy as np\n",
    "import matplotlib.pyplot as plt\n",
    "\n",
    "# Definir las constantes\n",
    "g = 9.8 # gravedad [m/s^2]\n",
    "p_atm = 101325 # Presión atmosférica [Pa]\n",
    "beta = 3.67e-3 # Coeficiente de expansion termica [1/K]\n",
    "T_w = 80.0 + 273.0 # Temperatura de la pared [K]\n",
    "T_a = 20.0 + 273.0 # Temperatura ambiente [K]\n",
    "delta_T = T_w - T_a\n",
    "lambda_f = 0.04 # Coeficiente de friccion [adimensional]\n",
    "R = 10.0 # Radio de la tuberia [m]\n",
    "L = 100.0 # Longitud de la tuberia [m]\n",
    "D = 2 * R\n",
    "alpha = 2.2e-5 # Coeficiente de difusividad [m^2/s]\n",
    "rho_0 = 1.0 # Densidad [kg/m^3]\n",
    "Cp = 1.012 # Capacidad calorifica [J/(kg K)]\n",
    "k = 0.024 # Conductividad termica [W/(m K)]\n",
    "nu = 1.71e-5 # Viscosidad [Pa s]\n",
    "Ra_D = (g * beta * delta_T * (2 * R)**3)/ nu**2 # Numero de Rayleigh\n",
    "Nu = (576/(Ra_D * 2 * R /L)**2 + 2.873/(Ra_D * 2 * R /L)**(1/2))**(-1/2)# Numero de Nusselt\n",
    "h_v = (k * Nu)/ (2 * R * L) # coeficiente de tranferencia de calor por convección [W/(m^3 K)]\n",
    "h = 1.42 * (delta_T/L)**(1/4)"
   ]
  },
  {
   "cell_type": "code",
   "execution_count": 18,
   "metadata": {},
   "outputs": [],
   "source": [
    "psi = 1/ (beta * delta_T)\n",
    "LAMBDA = L/D\n",
    "Ri = 2 * rho_0**2 * g * beta * L * Cp**2 * delta_T /  (h**2 * LAMBDA**2) # Numero de Richardson\n",
    "Ra = rho_0**2 * g * beta * Cp * D**2 * delta_T / (16 * nu * h * LAMBDA) # Numero de Rayleigh "
   ]
  },
  {
   "cell_type": "code",
   "execution_count": 21,
   "metadata": {},
   "outputs": [
    {
     "name": "stdout",
     "output_type": "stream",
     "text": [
      "Error: El método no convergió después de 1000 iteraciones.\n"
     ]
    }
   ],
   "source": [
    "import numpy as np\n",
    "import matplotlib.pyplot as plt\n",
    "\n",
    "def f(x, a, b, c):\n",
    "    return a + b * x**2 + c * x - 1 + x * (1 - np.exp(-1/x))\n",
    "\n",
    "def f_prime(x, b, c):\n",
    "    return 2 * b * x + c + (1 - np.exp(-1/x)) - np.exp(-1/x)/x\n",
    "\n",
    "def newton_raphson(a, b, c, x0, tol=1e-6, max_iter=1000):\n",
    "    x = x0\n",
    "    for i in range(max_iter):\n",
    "        fx = f(x, a, b, c)\n",
    "        if abs(fx) < tol:\n",
    "            return x, i\n",
    "        dfx = f_prime(x, b, c)\n",
    "        if dfx == 0:\n",
    "            raise ValueError(\"Derivada cero. El método de Newton-Raphson falló.\")\n",
    "        x = x - fx / dfx\n",
    "    raise ValueError(f\"El método no convergió después de {max_iter} iteraciones.\")\n",
    "\n",
    "# Parámetros de la ecuación\n",
    "a = psi\n",
    "b = Ri**-1\n",
    "c = Ra**-1\n",
    "\n",
    "# Valor inicial\n",
    "x0 = 0.1\n",
    "try:\n",
    "    # Resolver la ecuación\n",
    "    x_sol, iterations = newton_raphson(a, b, c, x0)\n",
    "    print(f\"Solución: x = {x_sol:.6f}\")\n",
    "    print(f\"Iteraciones: {iterations}\")\n",
    "\n",
    "    # Verificar la solución\n",
    "    residual = f(x_sol, a, b, c)\n",
    "    print(f\"Residual: {residual:.2e}\")\n",
    "\n",
    "    # Graficar la función\n",
    "    x_range = np.linspace(0.1, 2, 1000)\n",
    "    y = f(x_range, a, b, c)\n",
    "\n",
    "    plt.figure(figsize=(10, 6))\n",
    "    plt.plot(x_range, y, label='f(x)')\n",
    "    plt.axhline(y=0, color='r', linestyle='--', label='y=0')\n",
    "    plt.axvline(x=x_sol, color='g', linestyle='--', label='Solución')\n",
    "    plt.plot(x_sol, 0, 'ro', markersize=10)\n",
    "    plt.xlabel('x')\n",
    "    plt.ylabel('f(x)')\n",
    "    plt.title('Gráfica de la función y su solución')\n",
    "    plt.legend()\n",
    "    plt.grid(True)\n",
    "    plt.ylim(-1, 1)  # Ajusta estos valores según sea necesario\n",
    "    plt.show()\n",
    "\n",
    "except ValueError as e:\n",
    "    print(f\"Error: {e}\")\n",
    "\n"
   ]
  },
  {
   "cell_type": "code",
   "execution_count": 20,
   "metadata": {},
   "outputs": [
    {
     "name": "stdout",
     "output_type": "stream",
     "text": [
      "-0.049 m/s\n",
      "-0.175 km/h\n"
     ]
    }
   ],
   "source": [
    "u_0 = h_v * L / (rho_0 * Cp * gamma_prima_NR)\n",
    "print(str(round(u_0,3)) + ' m/s\\n' + str(round(u_0 * 3.6, 3)) + ' km/h')"
   ]
  }
 ],
 "metadata": {
  "kernelspec": {
   "display_name": "Python 3",
   "language": "python",
   "name": "python3"
  },
  "language_info": {
   "codemirror_mode": {
    "name": "ipython",
    "version": 3
   },
   "file_extension": ".py",
   "mimetype": "text/x-python",
   "name": "python",
   "nbconvert_exporter": "python",
   "pygments_lexer": "ipython3",
   "version": "3.12.2"
  }
 },
 "nbformat": 4,
 "nbformat_minor": 2
}
