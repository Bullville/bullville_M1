{
 "cells": [
  {
   "cell_type": "code",
   "execution_count": 6,
   "metadata": {},
   "outputs": [
    {
     "name": "stdout",
     "output_type": "stream",
     "text": [
      "Número de Rayleigh: 5.74e+15\n",
      "h: 5.90e+13\n"
     ]
    }
   ],
   "source": [
    "import numpy as np\n",
    "import matplotlib.pyplot as plt\n",
    "import math\n",
    "\n",
    "# Definir las constantes\n",
    "g = 9.8 # gravedad [m/s^2]\n",
    "p_atm = 101325 # Presión atmosférica [Pa]\n",
    "beta = 3.67e-3 # Coeficiente de expansion termica [1/K]\n",
    "T_w = 80.0 + 273.0 # Temperatura de la pared [K]\n",
    "T_a = 20.0 + 273.0 # Temperatura ambiente [K]\n",
    "delta_T = T_w - T_a\n",
    "lambda_f = 0.04 # Coeficiente de friccion [adimensional]\n",
    "R = 10.0 # Radio de la tuberia [m]\n",
    "L = 100.0 # Longitud de la tuberia [m]\n",
    "D = 2 * R\n",
    "alpha = 2.2e-5 # Coeficiente de difusividad [m^2/s]\n",
    "rho_0 = 1.0 # Densidad [kg/m^3]\n",
    "Cp = 1.012 # Capacidad calorifica [J/(kg K)]\n",
    "k = 0.024 # Conductividad termica [W/(m K)]\n",
    "nu = 1.71e-5 # Viscosidad [Pa s]\n",
    "Ra_D = (g * beta * delta_T * (2 * R)**3)/ nu**2 # Numero de Rayleigh\n",
    "Nu = (576/(Ra_D * 2 * R /L)**2 + 2.873/(Ra_D * 2 * R /L)**(1/2))**(-1/2)# Numero de Nusselt\n",
    "#  (Cengel)\n",
    "Ra = g * beta * (delta_T) * L**3 / (nu * alpha)\n",
    "Pr = nu / alpha\n",
    "Nu = (0.825 + 0.387 * Ra**(1/6) / (1 + (0.492/ Pr)**(9/16))**(8/27))**2\n",
    "h = (k * Nu)/ L\n",
    "print(f'Número de Rayleigh: {Ra:.2e}\\n'\n",
    "      f'h: {Ra_D:.2e}' )"
   ]
  },
  {
   "cell_type": "code",
   "execution_count": 18,
   "metadata": {},
   "outputs": [],
   "source": []
  }
 ],
 "metadata": {
  "kernelspec": {
   "display_name": "Python 3",
   "language": "python",
   "name": "python3"
  },
  "language_info": {
   "codemirror_mode": {
    "name": "ipython",
    "version": 3
   },
   "file_extension": ".py",
   "mimetype": "text/x-python",
   "name": "python",
   "nbconvert_exporter": "python",
   "pygments_lexer": "ipython3",
   "version": "3.12.2"
  }
 },
 "nbformat": 4,
 "nbformat_minor": 2
}
