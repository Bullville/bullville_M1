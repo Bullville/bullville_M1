{
 "cells": [
  {
   "cell_type": "code",
   "execution_count": 1,
   "metadata": {},
   "outputs": [],
   "source": [
    "import numpy as np\n",
    "import matplotlib.pyplot as plt\n",
    "\n",
    "# Definir las constantes\n",
    "g = 9.8 # gravedad [m/s^2]\n",
    "p_atm = 101325 # Presión atmosférica [Pa]\n",
    "beta = 3.67e-3 # Coeficiente de expansion termica [1/K]\n",
    "T_w = 80.0 + 273.0 # Temperatura de la pared [K]\n",
    "T_a = 20.0 + 273.0 # Temperatura ambiente [K]\n",
    "delta_T = T_w - T_a\n",
    "T_f = (0.92 * T_a + 0.08 * T_w) \n",
    "lambda_f = 0.04 # Coeficiente de friccion [adimensional]\n",
    "R = 10.0 # Radio de la tuberia [m]\n",
    "L = 100.0 # Longitud de la tuberia [m]\n",
    "alpha = 2.2e-5 # Coeficiente de difusividad [m^2/s]\n",
    "rho_0 = 1.0 # Densidad [kg/m^3]\n",
    "Cp = 1.012 # Capacidad calorifica [J/(kg K)]\n",
    "k = 0.024 # Conductividad termica [W/(m K)]\n",
    "nu = 1.71e-5 # Viscosidad [Pa s]\n",
    "Ra_D = (g * beta * delta_T * (2 * R)**3)/ nu**2 # Numero de Rayleigh\n",
    "Nu = (576/(Ra_D * 2 * R /L)**2 + 2.873/(Ra_D * 2 * R /L)**(1/2))**(-1/2)# Numero de Nusselt\n",
    "h_v = (k * Nu)/ (2 * R * L) # coeficiente de tranferencia de calor por convección [W/(m^3 K)]\n",
    "theta_r = (T_w - T_a)/(T_f - T_a)\n",
    "LAMBDA = (lambda_f * L) / (8 * R)\n",
    "u_c = (rho_0 * g * Cp * beta * (T_f - T_a))/(h_v * (1/2 + (lambda_f * L)/ (8 *R))) #  = u_e velocidad en el estado estacionario y se usa como velocidad caracteristica [m/s]\n",
    "Pi_0 = (rho_0 * g * L) / p_atm \n",
    "Pi_d = (rho_0 * u_c**2) / p_atm\n",
    "gamma = (h_v * L) / (rho_0 * Cp * u_c)\n",
    "delta = alpha / (L * u_c)\n",
    "t_c = L/ u_c # tiempo caracteristico [s]\n",
    "phi = (L * g * beta) * (T_f - T_a) / u_c**2\n",
    "\n"
   ]
  },
  {
   "cell_type": "code",
   "execution_count": 2,
   "metadata": {},
   "outputs": [
    {
     "name": "stdout",
     "output_type": "stream",
     "text": [
      "T_f = 297.8\n",
      "h_v = 0.013123697793705775\n",
      "Lambda = 0.05\n",
      "u_e = 24.20443666055377\n",
      "Pi_0 = 0.009671848013816927\n",
      "Pi_d = 0.0057819368769282935\n",
      "gamma = 0.05357728835290001\n",
      "delta = 9.089242732037485e-09\n",
      "t_c = 4.131473969107947\n",
      "phi = 0.029467508594095016\n",
      "theta_r = 12.49999999999997\n"
     ]
    }
   ],
   "source": [
    "print('T_f = ' + str(T_f))\n",
    "print('h_v = ' + str(h_v))\n",
    "print('Lambda = ' + str(LAMBDA))\n",
    "print('u_e = ' + str(u_c))\n",
    "print('Pi_0 = ' + str(Pi_0))\n",
    "print('Pi_d = ' + str(Pi_d))\n",
    "print('gamma = ' + str(gamma))\n",
    "print('delta = ' + str(delta))\n",
    "print('t_c = ' + str(t_c))\n",
    "print('phi = ' + str(phi))\n",
    "print('theta_r = ' + str(theta_r))"
   ]
  },
  {
   "cell_type": "code",
   "execution_count": 5,
   "metadata": {},
   "outputs": [
    {
     "name": "stderr",
     "output_type": "stream",
     "text": [
      "/var/folders/lx/vhxvbgp94fj63r8wrldf_13m0000gn/T/ipykernel_2732/2744298845.py:27: RuntimeWarning: overflow encountered in scalar power\n",
      "  Pi[i+1, j] = 1 - 0.5 * Pi_d * v[i+1]**2 + Pi_0 * eta[j]\n",
      "/var/folders/lx/vhxvbgp94fj63r8wrldf_13m0000gn/T/ipykernel_2732/2744298845.py:23: RuntimeWarning: overflow encountered in scalar multiply\n",
      "  theta[i+1, j] = theta[i, j] + (tau[i+1] - tau[i]) * (- v[i+1] * ((theta[i, j+1] - theta[i, j]) / (eta[j+1] - eta[j]))\n",
      "/var/folders/lx/vhxvbgp94fj63r8wrldf_13m0000gn/T/ipykernel_2732/2744298845.py:19: RuntimeWarning: invalid value encountered in scalar subtract\n",
      "  v[i+1] = v[i] + (tau[i+1]-tau[i]) * ((-1/Pi_d) * ((Pi[i, j+1] - Pi[i, j]) / (eta[j+1] - eta[j]))\n",
      "/var/folders/lx/vhxvbgp94fj63r8wrldf_13m0000gn/T/ipykernel_2732/2744298845.py:21: RuntimeWarning: overflow encountered in scalar power\n",
      "  - LAMBDA * v[i]**2)\n",
      "/var/folders/lx/vhxvbgp94fj63r8wrldf_13m0000gn/T/ipykernel_2732/2744298845.py:23: RuntimeWarning: invalid value encountered in scalar subtract\n",
      "  theta[i+1, j] = theta[i, j] + (tau[i+1] - tau[i]) * (- v[i+1] * ((theta[i, j+1] - theta[i, j]) / (eta[j+1] - eta[j]))\n",
      "/var/folders/lx/vhxvbgp94fj63r8wrldf_13m0000gn/T/ipykernel_2732/2744298845.py:24: RuntimeWarning: invalid value encountered in scalar add\n",
      "  + delta * ((theta[i, j-1] - 2 * theta[i, j] + theta[i, j+1]) / (eta[j+1] - eta[j])**2)\n",
      "/var/folders/lx/vhxvbgp94fj63r8wrldf_13m0000gn/T/ipykernel_2732/2744298845.py:24: RuntimeWarning: invalid value encountered in scalar subtract\n",
      "  + delta * ((theta[i, j-1] - 2 * theta[i, j] + theta[i, j+1]) / (eta[j+1] - eta[j])**2)\n"
     ]
    }
   ],
   "source": [
    "# Definición de variables y condiciones iniciales\n",
    "N = 100 # Número de puntos en la dirección temporal\n",
    "M = 200 # Número de puntos en la dirección vertical\n",
    "eta = np.linspace(0, 1, M)  # Coordenada vertical adimensional\n",
    "tau = np.linspace(0, 1, N)  # Coordenada temporal adimensional\n",
    "v = np.zeros(N)  # Velocidad adimensional\n",
    "theta = np.zeros((N, M))  # Temperatura adimensional\n",
    "Pi = np.zeros((N, M))  # Presión adimensional\n",
    "\n",
    "# Condiciones iniciales\n",
    "v[0] = 0.0  # Velocidad inicial cero\n",
    "theta[0, :] = 0.0  # Temperatura inicial uniforme\n",
    "Pi[0, :] = 1.0  # Presión inicial uniforme\n",
    "\n",
    "# Simulación numérica\n",
    "for i in range(N-1):\n",
    "    for j in range(M-1):\n",
    "\n",
    "         v[i+1] = v[i] + (tau[i+1]-tau[i]) * ((-1/Pi_d) * ((Pi[i, j+1] - Pi[i, j]) / (eta[j+1] - eta[j])) \n",
    "                                              - phi * (theta[i, j] - theta_r)\n",
    "                                              - LAMBDA * v[i]**2)\n",
    "         \n",
    "         theta[i+1, j] = theta[i, j] + (tau[i+1] - tau[i]) * (- v[i+1] * ((theta[i, j+1] - theta[i, j]) / (eta[j+1] - eta[j]))\n",
    "                                                              + delta * ((theta[i, j-1] - 2 * theta[i, j] + theta[i, j+1]) / (eta[j+1] - eta[j])**2)\n",
    "                                                              - gamma * (theta[i, j] - theta_r))\n",
    "         \n",
    "         Pi[i+1, j] = 1 - 0.5 * Pi_d * v[i+1]**2 + Pi_0 * eta[j]\n",
    "\n"
   ]
  },
  {
   "cell_type": "code",
   "execution_count": null,
   "metadata": {},
   "outputs": [],
   "source": []
  }
 ],
 "metadata": {
  "kernelspec": {
   "display_name": "Python 3",
   "language": "python",
   "name": "python3"
  },
  "language_info": {
   "codemirror_mode": {
    "name": "ipython",
    "version": 3
   },
   "file_extension": ".py",
   "mimetype": "text/x-python",
   "name": "python",
   "nbconvert_exporter": "python",
   "pygments_lexer": "ipython3",
   "version": "3.12.2"
  }
 },
 "nbformat": 4,
 "nbformat_minor": 2
}
